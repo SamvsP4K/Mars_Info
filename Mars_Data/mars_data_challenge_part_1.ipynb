{
 "cells": [
  {
   "cell_type": "code",
   "execution_count": 1,
   "id": "a013ac87",
   "metadata": {},
   "outputs": [],
   "source": [
    "# Import Splinter and BeautifulSoup\n",
    "from splinter import Browser\n",
    "from bs4 import BeautifulSoup as soup\n",
    "from webdriver_manager.chrome import ChromeDriverManager\n",
    "import pandas as pd"
   ]
  },
  {
   "cell_type": "code",
   "execution_count": 2,
   "id": "96c957af",
   "metadata": {},
   "outputs": [
    {
     "name": "stdout",
     "output_type": "stream",
     "text": [
      "Article Title 1\n",
      " Sensors on Mars 2020 Spacecraft Answer Long-Distance Call From Earth\n",
      "Article Title 2\n",
      " NASA's Perseverance Rover Will Look at Mars Through These 'Eyes'\n",
      "Article Title 3\n",
      " NASA's MAVEN Maps Winds in the Martian Upper Atmosphere that Mirror the Terrain Below and Gives Clues to Martian Climate\n",
      "Article Title 4\n",
      " Space History Is Made in This NASA Robot Factory\n",
      "Article Title 5\n",
      " While Stargazing on Mars, NASA's Curiosity Rover Spots Earth and Venus\n",
      "Article Title 6\n",
      " NASA's Perseverance Rover Mission Getting in Shape for Launch\n",
      "Article Title 7\n",
      " NASA's Mars 2020 Heads Into the Test Chamber\n",
      "Article Title 8\n",
      " NASA's Mars 2020 Rover Completes Its First Drive\n",
      "Article Title 9\n",
      " NASA's Curiosity Mars Rover Snaps Its Highest-Resolution Panorama Yet\n",
      "Article Title 10\n",
      " NASA's Treasure Map for Water Ice on Mars\n",
      "Article Title 11\n",
      " Heat and Dust Help Launch Martian Water Into Space, Scientists Find\n",
      "Article Title 12\n",
      " NASA to Hold Mars 2020 Perseverance Rover Launch Briefing\n",
      "Article Title 13\n",
      " NASA's Mars 2020 Rover Tests Descent-Stage Separation\n",
      "Article Title 14\n",
      " NASA's InSight 'Hears' Peculiar Sounds on Mars\n",
      "Article Title 15\n",
      " Mars 2020 Stands on Its Own Six Wheels\n"
     ]
    }
   ],
   "source": [
    "# Set up Splinter\n",
    "executable_path = {'executable_path': ChromeDriverManager().install()}\n",
    "browser = Browser('chrome', **executable_path, headless=False)\n",
    "\n",
    "#Scrape all titles on webpage\n",
    "url = 'https://redplanetscience.com'\n",
    "browser.visit(url)\n",
    "html = browser.html\n",
    "#beautiful soup object\n",
    "site_soup = soup(html,'html.parser')\n",
    "title = site_soup.find_all('div',class_='content_title')\n",
    "# iterate and number article title\n",
    "for i, t in enumerate(title, start=1):\n",
    "    article_titles = t.text\n",
    "    print(f\"Article Title {i}\\n\",article_titles)"
   ]
  },
  {
   "cell_type": "code",
   "execution_count": 3,
   "id": "072ced48",
   "metadata": {},
   "outputs": [
    {
     "name": "stdout",
     "output_type": "stream",
     "text": [
      "Preview Text 1\n",
      " Instruments tailored to collect data during the descent of NASA's next rover through the Red Planet's atmosphere have been checked in flight.\n",
      "Preview Text 2\n",
      " A pair of zoomable cameras will help scientists and rover drivers with high-resolution color images.\n",
      "Preview Text 3\n",
      " Researchers have created the first map of wind circulation in the upper atmosphere of a planet besides Earth, using data from NASA’s MAVEN spacecraft that were collected during the last two years.\n",
      "Preview Text 4\n",
      " From rockets to rovers, JPL's Spacecraft Assembly Facility has been at the center of robotic spaceflight. Here's a closer look at what makes it so special.\n",
      "Preview Text 5\n",
      " This new portrait of the Red Planet's neighbors was taken during a time when there's more dust in the air on Mars.\n",
      "Preview Text 6\n",
      " Stacking spacecraft components on top of each other is one of the final assembly steps before a mission launches to the Red Planet. \n",
      "Preview Text 7\n",
      " In this time-lapse video taken at JPL, engineers move the Mars 2020 rover into a large vacuum chamber for testing in Mars-like environmental conditions.\n",
      "Preview Text 8\n",
      " In a 10-plus-hour marathon, the rover steered, turned and drove in 3-foot (1-meter) increments over small ramps.\n",
      "Preview Text 9\n",
      " To go along with the stunning 1.8-billion-pixel image, a new video offers a sweeping view of the Red Planet.\n",
      "Preview Text 10\n",
      " A new study identifies frozen water just below the Martian surface, where astronauts could easily dig it up.\n",
      "Preview Text 11\n",
      " Scientists using an instrument aboard NASA’s Mars Atmosphere and Volatile EvolutioN, or MAVEN, spacecraft have discovered that water vapor near the surface of the Red Planet is lofted higher into the atmosphere than anyone expected was possible. \n",
      "Preview Text 12\n",
      " Learn more about the agency's next Red Planet mission during a live event on June 17.\n",
      "Preview Text 13\n",
      " A crane lifts the rocket-powered descent stage away from NASA's Mars 2020 rover after technicians tested the pyrotechnic charges that separate the two spacecraft.\n",
      "Preview Text 14\n",
      " Listen to the marsquakes and other, less-expected sounds that the Mars lander has been detecting.\n",
      "Preview Text 15\n",
      " In time-lapse video, taken at JPL, captures the first time NASA's Mars 2020 rover carries its full weight on its legs and wheels.\n"
     ]
    }
   ],
   "source": [
    "#scrape all the preview text from articles\n",
    "prev_text = site_soup.find_all('div',class_='article_teaser_body')\n",
    "# iterate and number text\n",
    "for i, article in enumerate(prev_text,start=1):\n",
    "    text_elem = article.get_text()\n",
    "    print(f\"Preview Text {i}\\n\",text_elem)"
   ]
  },
  {
   "cell_type": "code",
   "execution_count": 4,
   "id": "5ec49fe7",
   "metadata": {},
   "outputs": [],
   "source": [
    "#store results in a dictionary and append to a list\n",
    "article_block = site_soup.find_all('div', id='news')\n",
    "article_blocks = article_block[0].find_all(class_ = \"list_text\")\n",
    "articles_list = []\n",
    "#rows = article_block.find_all(class_='row')\n",
    "for articles in article_blocks:\n",
    "    article_info = {}\n",
    "    article_info.clear()\n",
    "    article_titles = articles.find(class_='content_title').get_text()\n",
    "    article_prev = articles.find(class_='article_teaser_body').get_text()\n",
    "    article_info['Title'] = article_titles\n",
    "    article_info['Preview'] = article_prev\n",
    "    \n",
    "    articles_list.append(article_info)\n",
    "    "
   ]
  },
  {
   "cell_type": "code",
   "execution_count": 5,
   "id": "2fbc622b",
   "metadata": {},
   "outputs": [
    {
     "data": {
      "text/plain": [
       "[{'Title': 'Sensors on Mars 2020 Spacecraft Answer Long-Distance Call From Earth',\n",
       "  'Preview': \"Instruments tailored to collect data during the descent of NASA's next rover through the Red Planet's atmosphere have been checked in flight.\"},\n",
       " {'Title': \"NASA's Perseverance Rover Will Look at Mars Through These 'Eyes'\",\n",
       "  'Preview': 'A pair of zoomable cameras will help scientists and rover drivers with high-resolution color images.'},\n",
       " {'Title': \"NASA's MAVEN Maps Winds in the Martian Upper Atmosphere that Mirror the Terrain Below and Gives Clues to Martian Climate\",\n",
       "  'Preview': 'Researchers have created the first map of wind circulation in the upper atmosphere of a planet besides Earth, using data from NASA’s MAVEN spacecraft that were collected during the last two years.'},\n",
       " {'Title': 'Space History Is Made in This NASA Robot Factory',\n",
       "  'Preview': \"From rockets to rovers, JPL's Spacecraft Assembly Facility has been at the center of robotic spaceflight. Here's a closer look at what makes it so special.\"},\n",
       " {'Title': \"While Stargazing on Mars, NASA's Curiosity Rover Spots Earth and Venus\",\n",
       "  'Preview': \"This new portrait of the Red Planet's neighbors was taken during a time when there's more dust in the air on Mars.\"},\n",
       " {'Title': \"NASA's Perseverance Rover Mission Getting in Shape for Launch\",\n",
       "  'Preview': 'Stacking spacecraft components on top of each other is one of the final assembly steps before a mission launches to the Red Planet. '},\n",
       " {'Title': \"NASA's Mars 2020 Heads Into the Test Chamber\",\n",
       "  'Preview': 'In this time-lapse video taken at JPL, engineers move the Mars 2020 rover into a large vacuum chamber for testing in Mars-like environmental conditions.'},\n",
       " {'Title': \"NASA's Mars 2020 Rover Completes Its First Drive\",\n",
       "  'Preview': 'In a 10-plus-hour marathon, the rover steered, turned and drove in 3-foot (1-meter) increments over small ramps.'},\n",
       " {'Title': \"NASA's Curiosity Mars Rover Snaps Its Highest-Resolution Panorama Yet\",\n",
       "  'Preview': 'To go along with the stunning 1.8-billion-pixel image, a new video offers a sweeping view of the Red Planet.'},\n",
       " {'Title': \"NASA's Treasure Map for Water Ice on Mars\",\n",
       "  'Preview': 'A new study identifies frozen water just below the Martian surface, where astronauts could easily dig it up.'},\n",
       " {'Title': 'Heat and Dust Help Launch Martian Water Into Space, Scientists Find',\n",
       "  'Preview': 'Scientists using an instrument aboard NASA’s Mars Atmosphere and Volatile EvolutioN, or MAVEN, spacecraft have discovered that water vapor near the surface of the Red Planet is lofted higher into the atmosphere than anyone expected was possible. '},\n",
       " {'Title': 'NASA to Hold Mars 2020 Perseverance Rover Launch Briefing',\n",
       "  'Preview': \"Learn more about the agency's next Red Planet mission during a live event on June 17.\"},\n",
       " {'Title': \"NASA's Mars 2020 Rover Tests Descent-Stage Separation\",\n",
       "  'Preview': \"A crane lifts the rocket-powered descent stage away from NASA's Mars 2020 rover after technicians tested the pyrotechnic charges that separate the two spacecraft.\"},\n",
       " {'Title': \"NASA's InSight 'Hears' Peculiar Sounds on Mars\",\n",
       "  'Preview': 'Listen to the marsquakes and other, less-expected sounds that the Mars lander has been detecting.'},\n",
       " {'Title': 'Mars 2020 Stands on Its Own Six Wheels',\n",
       "  'Preview': \"In time-lapse video, taken at JPL, captures the first time NASA's Mars 2020 rover carries its full weight on its legs and wheels.\"}]"
      ]
     },
     "execution_count": 5,
     "metadata": {},
     "output_type": "execute_result"
    }
   ],
   "source": [
    "articles_list"
   ]
  },
  {
   "cell_type": "code",
   "execution_count": null,
   "id": "760c7c59",
   "metadata": {},
   "outputs": [],
   "source": []
  },
  {
   "cell_type": "code",
   "execution_count": null,
   "id": "34ec0c70",
   "metadata": {},
   "outputs": [],
   "source": []
  },
  {
   "cell_type": "code",
   "execution_count": null,
   "id": "5b47224d",
   "metadata": {},
   "outputs": [],
   "source": []
  },
  {
   "cell_type": "code",
   "execution_count": null,
   "id": "bae2fca8",
   "metadata": {},
   "outputs": [],
   "source": []
  },
  {
   "cell_type": "code",
   "execution_count": null,
   "id": "a54093cd",
   "metadata": {},
   "outputs": [],
   "source": []
  },
  {
   "cell_type": "code",
   "execution_count": null,
   "id": "fe0b362e",
   "metadata": {},
   "outputs": [],
   "source": []
  }
 ],
 "metadata": {
  "kernelspec": {
   "display_name": "Python 3 (ipykernel)",
   "language": "python",
   "name": "python3"
  },
  "language_info": {
   "codemirror_mode": {
    "name": "ipython",
    "version": 3
   },
   "file_extension": ".py",
   "mimetype": "text/x-python",
   "name": "python",
   "nbconvert_exporter": "python",
   "pygments_lexer": "ipython3",
   "version": "3.9.12"
  }
 },
 "nbformat": 4,
 "nbformat_minor": 5
}
