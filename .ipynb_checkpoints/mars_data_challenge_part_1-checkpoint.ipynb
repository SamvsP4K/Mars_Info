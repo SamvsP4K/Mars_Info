{
 "cells": [
  {
   "cell_type": "code",
   "execution_count": 51,
   "id": "a013ac87",
   "metadata": {},
   "outputs": [],
   "source": [
    "# Import Splinter and BeautifulSoup\n",
    "from splinter import Browser\n",
    "from bs4 import BeautifulSoup as soup\n",
    "from webdriver_manager.chrome import ChromeDriverManager\n",
    "import pandas as pd"
   ]
  },
  {
   "cell_type": "code",
   "execution_count": 2,
   "id": "96c957af",
   "metadata": {},
   "outputs": [
    {
     "name": "stderr",
     "output_type": "stream",
     "text": [
      "[WDM] - Downloading: 100%|██████████| 6.29M/6.29M [00:00<00:00, 35.3MB/s]\n"
     ]
    },
    {
     "name": "stdout",
     "output_type": "stream",
     "text": [
      "Article Title 1\n",
      " NASA's Mars Perseverance Rover Passes Flight Readiness Review\n",
      "Article Title 2\n",
      " NASA's Push to Save the Mars InSight Lander's Heat Probe\n",
      "Article Title 3\n",
      " Virginia Middle School Student Earns Honor of Naming NASA's Next Mars Rover\n",
      "Article Title 4\n",
      " Mars Helicopter Attached to NASA's Perseverance Rover\n",
      "Article Title 5\n",
      " NASA's Treasure Map for Water Ice on Mars\n",
      "Article Title 6\n",
      " Two of a Space Kind: Apollo 12 and Mars 2020\n",
      "Article Title 7\n",
      " NASA's Mars 2020 Rover Goes Coast-to-Coast to Prep for Launch\n",
      "Article Title 8\n",
      " NASA's New Mars Rover Is Ready for Space Lasers\n",
      "Article Title 9\n",
      " NASA's Mars 2020 Rover Closer to Getting Its Name\n",
      "Article Title 10\n",
      " Three New Views of Mars' Moon Phobos\n",
      "Article Title 11\n",
      " Mars 2020 Unwrapped and Ready for More Testing\n",
      "Article Title 12\n",
      " NASA-JPL Names 'Rolling Stones Rock' on Mars\n",
      "Article Title 13\n",
      " Heat and Dust Help Launch Martian Water Into Space, Scientists Find\n",
      "Article Title 14\n",
      " Media Get a Close-Up of NASA's Mars 2020 Rover\n",
      "Article Title 15\n",
      " Air Deliveries Bring NASA's Perseverance Mars Rover Closer to Launch\n"
     ]
    }
   ],
   "source": [
    "# Set up Splinter\n",
    "executable_path = {'executable_path': ChromeDriverManager().install()}\n",
    "browser = Browser('chrome', **executable_path, headless=False)\n",
    "\n",
    "#Scrape all titles on webpage\n",
    "url = 'https://redplanetscience.com'\n",
    "browser.visit(url)\n",
    "html = browser.html\n",
    "#beautiful soup object\n",
    "site_soup = soup(html,'html.parser')\n",
    "title = site_soup.find_all('div',class_='content_title')\n",
    "# iterate and number article title\n",
    "for i, t in enumerate(title, start=1):\n",
    "    article_titles = t.text\n",
    "    print(f\"Article Title {i}\\n\",article_titles)"
   ]
  },
  {
   "cell_type": "code",
   "execution_count": 3,
   "id": "072ced48",
   "metadata": {},
   "outputs": [
    {
     "name": "stdout",
     "output_type": "stream",
     "text": [
      "New Article 1\n",
      " ​The agency's Mars 2020 mission has one more big prelaunch review – the Launch Readiness Review, on July 27.\n",
      "New Article 2\n",
      " The scoop on the end of the spacecraft's robotic arm will be used to 'pin' the mole against the wall of its hole.\n",
      "New Article 3\n",
      " NASA chose a seventh-grader from Virginia as winner of the agency's \"Name the Rover\" essay contest. Alexander Mather's entry for \"Perseverance\" was voted tops among 28,000 entries. \n",
      "New Article 4\n",
      " The team also fueled the rover's sky crane to get ready for this summer's history-making launch.\n",
      "New Article 5\n",
      " A new study identifies frozen water just below the Martian surface, where astronauts could easily dig it up.\n",
      "New Article 6\n",
      " Apollo 12 and the upcoming Mars 2020 mission may be separated by half a century, but they share several goals unique in the annals of space exploration.\n",
      "New Article 7\n",
      " The agency's first step in returning rocks from Mars just arrived at Kennedy Space Center. The Mars 2020 team now begins readying for a launch to the Red Planet this July.\n",
      "New Article 8\n",
      " Perseverance is one of a few Mars spacecraft carrying laser retroreflectors. The devices could provide new science and safer Mars landings in the future.\n",
      "New Article 9\n",
      " 155 students from across the U.S. have been chosen as semifinalists in NASA's essay contest to name the Mars 2020 rover, and see it launch from Cape Canaveral this July.\n",
      "New Article 10\n",
      " Taken with the infrared camera aboard NASA's Odyssey orbiter, they reveal temperature variations on the small moon as it drifts into and out of Mars’ shadow.\n",
      "New Article 11\n",
      " In time-lapse video, bunny-suited engineers remove the inner layer of protective foil on NASA's Mars 2020 rover after it was relocated for testing.\n",
      "New Article 12\n",
      " NASA's Mars InSight mission honored one of the biggest bands of all time at Pasadena concert.\n",
      "New Article 13\n",
      " Scientists using an instrument aboard NASA’s Mars Atmosphere and Volatile EvolutioN, or MAVEN, spacecraft have discovered that water vapor near the surface of the Red Planet is lofted higher into the atmosphere than anyone expected was possible. \n",
      "New Article 14\n",
      " The clean room at NASA's Jet Propulsion Laboratory was open to the media to see NASA's next Mars explorer before it leaves for Florida in preparation for a summertime launch.\n",
      "New Article 15\n",
      " A NASA Wallops Flight Facility cargo plane transported more than two tons of equipment — including the rover's sample collection tubes — to Florida for this summer's liftoff.\n"
     ]
    }
   ],
   "source": [
    "#scrape all the preview text from articles\n",
    "prev_text = site_soup.find_all('div',class_='article_teaser_body')\n",
    "# iterate and number text\n",
    "for i, article in enumerate(prev_text,start=1):\n",
    "    text_elem = article.get_text()\n",
    "    print(f\"New Article {i}\\n\",text_elem)"
   ]
  },
  {
   "cell_type": "code",
   "execution_count": 49,
   "id": "760c7c59",
   "metadata": {},
   "outputs": [],
   "source": [
    "#store results in a dictionary\n",
    "article_info = {}\n",
    "#title = site_soup.find_all('div',class_='content_title')\n",
    "#prev_text = site_soup.find_all('div',class_='article_teaser_body')\n",
    "article_block = site_soup.find_all('div', id='news')\n",
    "\n",
    "for articles in article_block:\n",
    "    article_titles = articles.find(class_='content_title').get_text()\n",
    "    article_prev = articles.find(class_='article_teaser_body').get_text()\n",
    "    article_info['Title'] = article_titles\n",
    "    article_info['Preview'] = article_prev\n"
   ]
  },
  {
   "cell_type": "code",
   "execution_count": 50,
   "id": "34ec0c70",
   "metadata": {},
   "outputs": [
    {
     "data": {
      "text/plain": [
       "{'Title': \"NASA's Mars Perseverance Rover Passes Flight Readiness Review\",\n",
       " 'Preview': \"\\u200bThe agency's Mars 2020 mission has one more big prelaunch review – the Launch Readiness Review, on July 27.\"}"
      ]
     },
     "execution_count": 50,
     "metadata": {},
     "output_type": "execute_result"
    }
   ],
   "source": [
    "article_info"
   ]
  },
  {
   "cell_type": "code",
   "execution_count": 56,
   "id": "5b47224d",
   "metadata": {},
   "outputs": [],
   "source": [
    "article_list = []\n",
    "for k, v in article_info.items():\n",
    "    article_list.append((k,v))"
   ]
  },
  {
   "cell_type": "code",
   "execution_count": 57,
   "id": "bae2fca8",
   "metadata": {},
   "outputs": [
    {
     "data": {
      "text/plain": [
       "[('Title', \"NASA's Mars Perseverance Rover Passes Flight Readiness Review\"),\n",
       " ('Preview',\n",
       "  \"\\u200bThe agency's Mars 2020 mission has one more big prelaunch review – the Launch Readiness Review, on July 27.\")]"
      ]
     },
     "execution_count": 57,
     "metadata": {},
     "output_type": "execute_result"
    }
   ],
   "source": [
    "article_list"
   ]
  },
  {
   "cell_type": "code",
   "execution_count": null,
   "id": "a54093cd",
   "metadata": {},
   "outputs": [],
   "source": []
  }
 ],
 "metadata": {
  "kernelspec": {
   "display_name": "Python 3 (ipykernel)",
   "language": "python",
   "name": "python3"
  },
  "language_info": {
   "codemirror_mode": {
    "name": "ipython",
    "version": 3
   },
   "file_extension": ".py",
   "mimetype": "text/x-python",
   "name": "python",
   "nbconvert_exporter": "python",
   "pygments_lexer": "ipython3",
   "version": "3.9.12"
  }
 },
 "nbformat": 4,
 "nbformat_minor": 5
}
