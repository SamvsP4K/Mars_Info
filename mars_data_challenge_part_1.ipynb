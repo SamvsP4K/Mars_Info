{
 "cells": [
  {
   "cell_type": "code",
   "execution_count": 1,
   "id": "a013ac87",
   "metadata": {},
   "outputs": [],
   "source": [
    "# Import Splinter and BeautifulSoup\n",
    "from splinter import Browser\n",
    "from bs4 import BeautifulSoup as soup\n",
    "from webdriver_manager.chrome import ChromeDriverManager\n",
    "import pandas as pd"
   ]
  },
  {
   "cell_type": "code",
   "execution_count": 2,
   "id": "96c957af",
   "metadata": {},
   "outputs": [
    {
     "name": "stdout",
     "output_type": "stream",
     "text": [
      "Article Title 1\n",
      " NASA's Mars 2020 Rover Tests Descent-Stage Separation\n",
      "Article Title 2\n",
      " NASA's Mars Reconnaissance Orbiter Undergoes Memory Update\n",
      "Article Title 3\n",
      " NASA Administrator Statement on Moon to Mars Initiative, FY 2021 Budget\n",
      "Article Title 4\n",
      " Curiosity Mars Rover's Summer Road Trip Has Begun\n",
      "Article Title 5\n",
      " NASA's Ingenuity Mars Helicopter Recharges Its Batteries in Flight\n",
      "Article Title 6\n",
      " Three New Views of Mars' Moon Phobos\n",
      "Article Title 7\n",
      " NASA to Broadcast Mars 2020 Perseverance Launch, Prelaunch Activities\n",
      "Article Title 8\n",
      " NASA's Perseverance Rover Is Midway to Mars \n",
      "Article Title 9\n",
      " 10.9 Million Names Now Aboard NASA's Perseverance Mars Rover\n",
      "Article Title 10\n",
      " The Launch Is Approaching for NASA's Next Mars Rover, Perseverance\n",
      "Article Title 11\n",
      " Heat and Dust Help Launch Martian Water Into Space, Scientists Find\n",
      "Article Title 12\n",
      " InSight's 'Mole' Team Peers into the Pit\n",
      "Article Title 13\n",
      " Sensors on Mars 2020 Spacecraft Answer Long-Distance Call From Earth\n",
      "Article Title 14\n",
      " NASA's Curiosity Mars Rover Takes a New Selfie Before Record Climb\n",
      "Article Title 15\n",
      " NASA Mars Mission Connects With Bosnian and Herzegovinian Town\n"
     ]
    }
   ],
   "source": [
    "# Set up Splinter\n",
    "executable_path = {'executable_path': ChromeDriverManager().install()}\n",
    "browser = Browser('chrome', **executable_path, headless=False)\n",
    "\n",
    "#Scrape all titles on webpage\n",
    "url = 'https://redplanetscience.com'\n",
    "browser.visit(url)\n",
    "html = browser.html\n",
    "#beautiful soup object\n",
    "site_soup = soup(html,'html.parser')\n",
    "title = site_soup.find_all('div',class_='content_title')\n",
    "# iterate and number article title\n",
    "for i, t in enumerate(title, start=1):\n",
    "    article_titles = t.text\n",
    "    print(f\"Article Title {i}\\n\",article_titles)"
   ]
  },
  {
   "cell_type": "code",
   "execution_count": 3,
   "id": "072ced48",
   "metadata": {},
   "outputs": [
    {
     "name": "stdout",
     "output_type": "stream",
     "text": [
      "Preview Text 1\n",
      " A crane lifts the rocket-powered descent stage away from NASA's Mars 2020 rover after technicians tested the pyrotechnic charges that separate the two spacecraft.\n",
      "Preview Text 2\n",
      " Other orbiters will continue relaying data from Mars surface missions for a two-week period.\n",
      "Preview Text 3\n",
      " Jim Bridenstine addresses NASA's ambitious plans for the coming years, including Mars Sample Return.\n",
      "Preview Text 4\n",
      " After more than a year in the \"clay-bearing unit,\" Curiosity is making a mile-long journey around some deep sand so that it can explore higher up Mount Sharp.\n",
      "Preview Text 5\n",
      " Headed to the Red Planet with the Perseverance rover, the pioneering helicopter is powered up for the first time in interplanetary space as part of a systems check.\n",
      "Preview Text 6\n",
      " Taken with the infrared camera aboard NASA's Odyssey orbiter, they reveal temperature variations on the small moon as it drifts into and out of Mars’ shadow.\n",
      "Preview Text 7\n",
      " Starting July 27, news activities will cover everything from mission engineering and science to returning samples from Mars to, of course, the launch itself.\n",
      "Preview Text 8\n",
      " Sometimes half measures can be a good thing – especially on a journey this long. The agency's latest rover only has about 146 million miles left to reach its destination.\n",
      "Preview Text 9\n",
      " As part of NASA's 'Send Your Name to Mars' campaign, they've been stenciled onto three microchips along with essays from NASA's 'Name the Rover' contest. Next stop: Mars.\n",
      "Preview Text 10\n",
      " The Red Planet's surface has been visited by eight NASA spacecraft. The ninth will be the first that includes a roundtrip ticket in its flight plan. \n",
      "Preview Text 11\n",
      " Scientists using an instrument aboard NASA’s Mars Atmosphere and Volatile EvolutioN, or MAVEN, spacecraft have discovered that water vapor near the surface of the Red Planet is lofted higher into the atmosphere than anyone expected was possible. \n",
      "Preview Text 12\n",
      " Efforts to save the heat probe continue.\n",
      "Preview Text 13\n",
      " Instruments tailored to collect data during the descent of NASA's next rover through the Red Planet's atmosphere have been checked in flight.\n",
      "Preview Text 14\n",
      " Along with capturing an image before its steepest ascent ever, the robotic explorer filmed its \"selfie stick,\" or robotic arm, in action.\n",
      "Preview Text 15\n",
      " A letter from NASA was presented to the mayor of Jezero, Bosnia-Herzegovina, honoring the connection between the town and Jezero Crater, the Mars 2020 rover landing site.\n"
     ]
    }
   ],
   "source": [
    "#scrape all the preview text from articles\n",
    "prev_text = site_soup.find_all('div',class_='article_teaser_body')\n",
    "# iterate and number text\n",
    "for i, article in enumerate(prev_text,start=1):\n",
    "    text_elem = article.get_text()\n",
    "    print(f\"Preview Text {i}\\n\",text_elem)"
   ]
  },
  {
   "cell_type": "code",
   "execution_count": 48,
   "id": "5ec49fe7",
   "metadata": {},
   "outputs": [],
   "source": [
    "#store results in a dictionary\n",
    "article_block = site_soup.find_all('div', id='news')\n",
    "article_blocks = article_block[0].find_all(class_ = \"list_text\")\n",
    "articles_list = []\n",
    "#rows = article_block.find_all(class_='row')\n",
    "for articles in article_blocks:\n",
    "    article_info = {}\n",
    "    article_info.clear()\n",
    "    article_titles = articles.find(class_='content_title').get_text()\n",
    "    article_prev = articles.find(class_='article_teaser_body').get_text()\n",
    "    article_info['Title'] = article_titles\n",
    "    article_info['Preview'] = article_prev\n",
    "    \n",
    "    articles_list.append(article_info)\n",
    "    "
   ]
  },
  {
   "cell_type": "code",
   "execution_count": 49,
   "id": "2fbc622b",
   "metadata": {},
   "outputs": [
    {
     "data": {
      "text/plain": [
       "[{'Title': \"NASA's Mars 2020 Rover Tests Descent-Stage Separation\",\n",
       "  'Preview': \"A crane lifts the rocket-powered descent stage away from NASA's Mars 2020 rover after technicians tested the pyrotechnic charges that separate the two spacecraft.\"},\n",
       " {'Title': \"NASA's Mars Reconnaissance Orbiter Undergoes Memory Update\",\n",
       "  'Preview': 'Other orbiters will continue relaying data from Mars surface missions for a two-week period.'},\n",
       " {'Title': 'NASA Administrator Statement on Moon to Mars Initiative, FY 2021 Budget',\n",
       "  'Preview': \"Jim Bridenstine addresses NASA's ambitious plans for the coming years, including Mars Sample Return.\"},\n",
       " {'Title': \"Curiosity Mars Rover's Summer Road Trip Has Begun\",\n",
       "  'Preview': 'After more than a year in the \"clay-bearing unit,\" Curiosity is making a mile-long journey around some deep sand so that it can explore higher up Mount Sharp.'},\n",
       " {'Title': \"NASA's Ingenuity Mars Helicopter Recharges Its Batteries in Flight\",\n",
       "  'Preview': 'Headed to the Red Planet with the Perseverance rover, the pioneering helicopter is powered up for the first time in interplanetary space as part of a systems check.'},\n",
       " {'Title': \"Three New Views of Mars' Moon Phobos\",\n",
       "  'Preview': \"Taken with the infrared camera aboard NASA's Odyssey orbiter, they reveal temperature variations on the small moon as it drifts into and out of Mars’ shadow.\"},\n",
       " {'Title': 'NASA to Broadcast Mars 2020 Perseverance Launch, Prelaunch Activities',\n",
       "  'Preview': 'Starting July 27, news activities will cover everything from mission engineering and science to returning samples from Mars to, of course, the launch itself.'},\n",
       " {'Title': \"NASA's Perseverance Rover Is Midway to Mars \",\n",
       "  'Preview': \"Sometimes half measures can be a good thing – especially on a journey this long. The agency's latest rover only has about 146 million miles left to reach its destination.\"},\n",
       " {'Title': \"10.9 Million Names Now Aboard NASA's Perseverance Mars Rover\",\n",
       "  'Preview': \"As part of NASA's 'Send Your Name to Mars' campaign, they've been stenciled onto three microchips along with essays from NASA's 'Name the Rover' contest. Next stop: Mars.\"},\n",
       " {'Title': \"The Launch Is Approaching for NASA's Next Mars Rover, Perseverance\",\n",
       "  'Preview': \"The Red Planet's surface has been visited by eight NASA spacecraft. The ninth will be the first that includes a roundtrip ticket in its flight plan. \"},\n",
       " {'Title': 'Heat and Dust Help Launch Martian Water Into Space, Scientists Find',\n",
       "  'Preview': 'Scientists using an instrument aboard NASA’s Mars Atmosphere and Volatile EvolutioN, or MAVEN, spacecraft have discovered that water vapor near the surface of the Red Planet is lofted higher into the atmosphere than anyone expected was possible. '},\n",
       " {'Title': \"InSight's 'Mole' Team Peers into the Pit\",\n",
       "  'Preview': 'Efforts to save the heat probe continue.'},\n",
       " {'Title': 'Sensors on Mars 2020 Spacecraft Answer Long-Distance Call From Earth',\n",
       "  'Preview': \"Instruments tailored to collect data during the descent of NASA's next rover through the Red Planet's atmosphere have been checked in flight.\"},\n",
       " {'Title': \"NASA's Curiosity Mars Rover Takes a New Selfie Before Record Climb\",\n",
       "  'Preview': 'Along with capturing an image before its steepest ascent ever, the robotic explorer filmed its \"selfie stick,\" or robotic arm, in action.'},\n",
       " {'Title': 'NASA Mars Mission Connects With Bosnian and Herzegovinian Town',\n",
       "  'Preview': 'A letter from NASA was presented to the mayor of Jezero, Bosnia-Herzegovina, honoring the connection between the town and Jezero Crater, the Mars 2020 rover landing site.'}]"
      ]
     },
     "execution_count": 49,
     "metadata": {},
     "output_type": "execute_result"
    }
   ],
   "source": [
    "articles_list"
   ]
  },
  {
   "cell_type": "code",
   "execution_count": 4,
   "id": "760c7c59",
   "metadata": {},
   "outputs": [
    {
     "ename": "AttributeError",
     "evalue": "ResultSet object has no attribute 'find_all'. You're probably treating a list of elements like a single element. Did you call find_all() when you meant to call find()?",
     "output_type": "error",
     "traceback": [
      "\u001b[1;31m---------------------------------------------------------------------------\u001b[0m",
      "\u001b[1;31mAttributeError\u001b[0m                            Traceback (most recent call last)",
      "Input \u001b[1;32mIn [4]\u001b[0m, in \u001b[0;36m<cell line: 4>\u001b[1;34m()\u001b[0m\n\u001b[0;32m      2\u001b[0m article_info \u001b[38;5;241m=\u001b[39m {}\n\u001b[0;32m      3\u001b[0m article_block \u001b[38;5;241m=\u001b[39m site_soup\u001b[38;5;241m.\u001b[39mfind_all(\u001b[38;5;124m'\u001b[39m\u001b[38;5;124mdiv\u001b[39m\u001b[38;5;124m'\u001b[39m, \u001b[38;5;28mid\u001b[39m\u001b[38;5;241m=\u001b[39m\u001b[38;5;124m'\u001b[39m\u001b[38;5;124mnews\u001b[39m\u001b[38;5;124m'\u001b[39m)\n\u001b[1;32m----> 4\u001b[0m rows \u001b[38;5;241m=\u001b[39m \u001b[43marticle_block\u001b[49m\u001b[38;5;241;43m.\u001b[39;49m\u001b[43mfind_all\u001b[49m(class_\u001b[38;5;241m=\u001b[39m\u001b[38;5;124m'\u001b[39m\u001b[38;5;124mrow\u001b[39m\u001b[38;5;124m'\u001b[39m)\n\u001b[0;32m      5\u001b[0m \u001b[38;5;66;03m#for articles in article_block:\u001b[39;00m\n\u001b[0;32m      6\u001b[0m     \u001b[38;5;66;03m#article_titles = articles.find(class_='content_title').get_text()\u001b[39;00m\n\u001b[0;32m      7\u001b[0m     \u001b[38;5;66;03m#article_prev = articles.find(class_='article_teaser_body').get_text()\u001b[39;00m\n\u001b[0;32m      8\u001b[0m     \u001b[38;5;66;03m#article_info['Title'] = article_titles\u001b[39;00m\n\u001b[0;32m      9\u001b[0m     \u001b[38;5;66;03m#article_info['Preview'] = article_prev\u001b[39;00m\n\u001b[0;32m     11\u001b[0m \u001b[38;5;28;01mfor\u001b[39;00m row \u001b[38;5;129;01min\u001b[39;00m rows:\n",
      "File \u001b[1;32m~\\anaconda3\\lib\\site-packages\\bs4\\element.py:2289\u001b[0m, in \u001b[0;36mResultSet.__getattr__\u001b[1;34m(self, key)\u001b[0m\n\u001b[0;32m   2287\u001b[0m \u001b[38;5;28;01mdef\u001b[39;00m \u001b[38;5;21m__getattr__\u001b[39m(\u001b[38;5;28mself\u001b[39m, key):\n\u001b[0;32m   2288\u001b[0m     \u001b[38;5;124;03m\"\"\"Raise a helpful exception to explain a common code fix.\"\"\"\u001b[39;00m\n\u001b[1;32m-> 2289\u001b[0m     \u001b[38;5;28;01mraise\u001b[39;00m \u001b[38;5;167;01mAttributeError\u001b[39;00m(\n\u001b[0;32m   2290\u001b[0m         \u001b[38;5;124m\"\u001b[39m\u001b[38;5;124mResultSet object has no attribute \u001b[39m\u001b[38;5;124m'\u001b[39m\u001b[38;5;132;01m%s\u001b[39;00m\u001b[38;5;124m'\u001b[39m\u001b[38;5;124m. You\u001b[39m\u001b[38;5;124m'\u001b[39m\u001b[38;5;124mre probably treating a list of elements like a single element. Did you call find_all() when you meant to call find()?\u001b[39m\u001b[38;5;124m\"\u001b[39m \u001b[38;5;241m%\u001b[39m key\n\u001b[0;32m   2291\u001b[0m     )\n",
      "\u001b[1;31mAttributeError\u001b[0m: ResultSet object has no attribute 'find_all'. You're probably treating a list of elements like a single element. Did you call find_all() when you meant to call find()?"
     ]
    }
   ],
   "source": [
    "\n",
    "    \n",
    "for row in rows:\n",
    "    article_titles = row.find(class_='content_title').get_text()\n",
    "    article_prev = row.find(class_='article_teaser_body').get_text()\n",
    "    article_info['Title'] = article_titles\n",
    "    article_info['Preview'] = article_prev\n"
   ]
  },
  {
   "cell_type": "code",
   "execution_count": null,
   "id": "34ec0c70",
   "metadata": {},
   "outputs": [],
   "source": [
    "article_info"
   ]
  },
  {
   "cell_type": "code",
   "execution_count": null,
   "id": "5b47224d",
   "metadata": {},
   "outputs": [],
   "source": [
    "article_list = []\n",
    "for k, v in article_info.items():\n",
    "    article_list.append((k,v))"
   ]
  },
  {
   "cell_type": "code",
   "execution_count": null,
   "id": "bae2fca8",
   "metadata": {},
   "outputs": [],
   "source": [
    "article_list"
   ]
  },
  {
   "cell_type": "code",
   "execution_count": null,
   "id": "a54093cd",
   "metadata": {},
   "outputs": [],
   "source": [
    "article_block"
   ]
  },
  {
   "cell_type": "code",
   "execution_count": null,
   "id": "fe0b362e",
   "metadata": {},
   "outputs": [],
   "source": []
  }
 ],
 "metadata": {
  "kernelspec": {
   "display_name": "Python 3 (ipykernel)",
   "language": "python",
   "name": "python3"
  },
  "language_info": {
   "codemirror_mode": {
    "name": "ipython",
    "version": 3
   },
   "file_extension": ".py",
   "mimetype": "text/x-python",
   "name": "python",
   "nbconvert_exporter": "python",
   "pygments_lexer": "ipython3",
   "version": "3.9.12"
  }
 },
 "nbformat": 4,
 "nbformat_minor": 5
}
