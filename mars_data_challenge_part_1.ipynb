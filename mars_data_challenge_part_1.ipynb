{
 "cells": [
  {
   "cell_type": "code",
   "execution_count": 8,
   "id": "a013ac87",
   "metadata": {},
   "outputs": [],
   "source": [
    "# Import Splinter and BeautifulSoup\n",
    "from splinter import Browser\n",
    "from bs4 import BeautifulSoup as soup\n",
    "from webdriver_manager.chrome import ChromeDriverManager"
   ]
  },
  {
   "cell_type": "code",
   "execution_count": 45,
   "id": "96c957af",
   "metadata": {},
   "outputs": [
    {
     "name": "stdout",
     "output_type": "stream",
     "text": [
      "Mars 2020 Stands on Its Own Six Wheels\n",
      "NASA's Mars Rover Drivers Need Your Help\n",
      "NASA to Reveal Name of Its Next Mars Rover\n",
      "NASA's Perseverance Rover Attached to Atlas V Rocket\n",
      "Meet the People Behind NASA's Perseverance Rover\n",
      "NASA Invites Students to Name Mars 2020 Rover\n",
      "A Year of Surprising Science From NASA's InSight Mars Mission\n",
      "NASA's Mars 2020 Comes Full Circle\n",
      "MOXIE Could Help Future Rockets Launch Off Mars\n",
      "NASA's Mars 2020 Rover Completes Its First Drive\n",
      "My Culture, My Voice\n",
      "NASA's Briefcase-Size MarCO Satellite Picks Up Honors\n",
      "10.9 Million Names Now Aboard NASA's Perseverance Mars Rover\n",
      "Curiosity Mars Rover's Summer Road Trip Has Begun\n",
      "Screening Soon: 'The Pathfinders' Trains Lens on Mars\n"
     ]
    }
   ],
   "source": [
    "# Set up Splinter\n",
    "executable_path = {'executable_path': ChromeDriverManager().install()}\n",
    "browser = Browser('chrome', **executable_path, headless=False)\n",
    "\n",
    "#Scrape all titles on webpage\n",
    "url = 'https://redplanetscience.com'\n",
    "browser.visit(url)\n",
    "html = browser.html\n",
    "site_soup = soup(html,'html.parser')\n",
    "title = site_soup.find_all('div',class_='content_title')\n",
    "\n",
    "for t in title:\n",
    "    article_titles = t.text\n",
    "    print(article_titles)"
   ]
  },
  {
   "cell_type": "code",
   "execution_count": 44,
   "id": "fa645262",
   "metadata": {},
   "outputs": [
    {
     "name": "stdout",
     "output_type": "stream",
     "text": [
      "155 students from across the U.S. have been chosen as semifinalists in NASA's essay contest to name the Mars 2020 rover, and see it launch from Cape Canaveral this July.\n",
      "Other orbiters will continue relaying data from Mars surface missions for a two-week period.\n",
      "For the first time in the history of space exploration, scientists have measured the seasonal changes in the gases that fill the air directly above the surface of Gale Crater on Mars. \n",
      "With a targeted launch date of July 30, the next robotic scientist NASA is sending to the to the Red Planet has big ambitions.\n",
      "A type of Martian aurora first identified by NASA’s MAVEN spacecraft in 2016 is actually the most common form of aurora occurring on the Red Planet, according to new results from the mission.\n",
      "Sensors on NASA's Perseverance will help prepare for future human exploration by taking weather measurements and studying dust particles.\n",
      "The first to be rigged with microphones, the agency's latest Mars rover picked up the subtle sounds of its own inner workings during interplanetary flight.\n",
      "NASA's Perseverance rover carries a device to convert Martian air into oxygen that, if produced on a larger scale, could be used not just for breathing, but also for fuel.\n",
      "They look like twins. But under the hood, the rover currently exploring the Red Planet and the one launching there this summer have distinct science tools and roles to play.\n",
      "The NASA rover performed a special chemistry experiment at the location captured in its newest self-portrait.\n",
      "Want to name the robotic scientist NASA is sending to Mars in 2020? The student who named Curiosity — the rover currently exploring Mars — will tell you this is an opportunity worth taking.\n",
      "Apollo 12 and the upcoming Mars 2020 mission may be separated by half a century, but they share several goals unique in the annals of space exploration.\n",
      "Marvels of engineering, the rover's sample tubes must be tough enough to safely bring Red Planet samples on the long journey back to Earth in immaculate condition. \n",
      "​The agency's Mars 2020 mission has one more big prelaunch review – the Launch Readiness Review, on July 27.\n",
      "The pair of briefcase-sized satellites made history when they sailed past Mars in 2019.\n"
     ]
    }
   ],
   "source": [
    "#scrape all the preview text from articles\n",
    "prev_text = site_soup.find_all('div',class_='article_teaser_body')\n",
    "for article in prev_text:\n",
    "    text_elem = article.get_text()\n",
    "    print(text_elem)"
   ]
  },
  {
   "cell_type": "code",
   "execution_count": 57,
   "id": "3aeaf867",
   "metadata": {},
   "outputs": [],
   "source": [
    "#store results in a dictionary\n",
    "article_info = {}\n",
    "title = site_soup.find_all('div',class_='content_title')\n",
    "prev_text = site_soup.find_all('div',class_='article_teaser_body')\n",
    "\n",
    "for t in title:\n",
    "    article_titles = t.text\n",
    "    for article in prev_text:\n",
    "        text_elem = article.get_text()\n",
    "    article_info['Title'] = article_titles\n",
    "    article_info['Preview'] = text_elem\n"
   ]
  },
  {
   "cell_type": "code",
   "execution_count": 56,
   "id": "d76d148f",
   "metadata": {},
   "outputs": [
    {
     "data": {
      "text/plain": [
       "{'Title': 'Mars 2020 Stands on Its Own Six Wheels',\n",
       " 'Preview': \"In time-lapse video, taken at JPL, captures the first time NASA's Mars 2020 rover carries its full weight on its legs and wheels.\"}"
      ]
     },
     "execution_count": 56,
     "metadata": {},
     "output_type": "execute_result"
    }
   ],
   "source": [
    "article_info"
   ]
  },
  {
   "cell_type": "code",
   "execution_count": null,
   "id": "b313d0ff",
   "metadata": {},
   "outputs": [],
   "source": []
  }
 ],
 "metadata": {
  "kernelspec": {
   "display_name": "Python 3 (ipykernel)",
   "language": "python",
   "name": "python3"
  },
  "language_info": {
   "codemirror_mode": {
    "name": "ipython",
    "version": 3
   },
   "file_extension": ".py",
   "mimetype": "text/x-python",
   "name": "python",
   "nbconvert_exporter": "python",
   "pygments_lexer": "ipython3",
   "version": "3.9.12"
  }
 },
 "nbformat": 4,
 "nbformat_minor": 5
}
